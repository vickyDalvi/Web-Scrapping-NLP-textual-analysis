{
 "cells": [
  {
   "cell_type": "code",
   "execution_count": 1,
   "id": "f4b0c157",
   "metadata": {},
   "outputs": [
    {
     "name": "stdout",
     "output_type": "stream",
     "text": [
      "Requirement already satisfied: beautifulsoup4 in c:\\users\\amold\\anaconda3\\lib\\site-packages (4.11.1)\n",
      "Requirement already satisfied: openpyxl in c:\\users\\amold\\anaconda3\\lib\\site-packages (3.0.10)\n",
      "Requirement already satisfied: requests in c:\\users\\amold\\anaconda3\\lib\\site-packages (2.28.1)\n",
      "Requirement already satisfied: soupsieve>1.2 in c:\\users\\amold\\anaconda3\\lib\\site-packages (from beautifulsoup4) (2.3.1)\n",
      "Requirement already satisfied: et_xmlfile in c:\\users\\amold\\anaconda3\\lib\\site-packages (from openpyxl) (1.1.0)\n",
      "Requirement already satisfied: charset-normalizer<3,>=2 in c:\\users\\amold\\anaconda3\\lib\\site-packages (from requests) (2.0.4)\n",
      "Requirement already satisfied: idna<4,>=2.5 in c:\\users\\amold\\anaconda3\\lib\\site-packages (from requests) (3.3)\n",
      "Requirement already satisfied: urllib3<1.27,>=1.21.1 in c:\\users\\amold\\anaconda3\\lib\\site-packages (from requests) (1.26.11)\n",
      "Requirement already satisfied: certifi>=2017.4.17 in c:\\users\\amold\\anaconda3\\lib\\site-packages (from requests) (2023.5.7)\n"
     ]
    }
   ],
   "source": [
    "!pip install beautifulsoup4 openpyxl requests\n"
   ]
  },
  {
   "cell_type": "code",
   "execution_count": 9,
   "id": "15ac85bc",
   "metadata": {},
   "outputs": [],
   "source": [
    "import pandas as pd\n",
    "import requests\n",
    "from bs4 import BeautifulSoup\n",
    "\n",
    "# Function to extract article title and text from a URL\n",
    "def extract_article(url):\n",
    "    response = requests.get(url)\n",
    "    if response.status_code == 200:\n",
    "        soup = BeautifulSoup(response.content, 'html.parser')\n",
    "        # Replace 'article' with the appropriate tag that contains the article content\n",
    "        article = soup.find('article')\n",
    "        if article:\n",
    "            title = article.find('h1').text.strip()\n",
    "            text = article.get_text(\"\\n\\n\", strip=True).replace(title, '').strip()\n",
    "            return title, text\n",
    "    return None, None\n",
    "\n",
    "# Load URLs from Input.xlsx\n",
    "input_file = r'C:\\PROJECT\\interview task\\Blackoffer\\Input.xlsx'\n",
    "output_file = r'C:\\PROJECT\\interview task\\Blackoffer\\ArticleOutput.xlsx'\n",
    "\n",
    "# Read the URLs from the 'URL' column of Input.xlsx\n",
    "df = pd.read_excel(input_file)\n",
    "\n",
    "# Extract article title and text for each URL\n",
    "df['Title'], df['Text'] = zip(*df['URL'].apply(extract_article))\n",
    "\n",
    "# Save the results to ArticleOutput.xlsx\n",
    "df.to_excel(output_file, index=False, engine='openpyxl')\n"
   ]
  },
  {
   "cell_type": "code",
   "execution_count": 20,
   "id": "128e9c13",
   "metadata": {},
   "outputs": [],
   "source": [
    "import pandas as pd\n",
    "import requests\n",
    "from bs4 import BeautifulSoup\n",
    "\n",
    "# Function to extract article title and text from a URL\n",
    "def extract_article(url):\n",
    "    response = requests.get(url)\n",
    "    if response.status_code == 200:\n",
    "        soup = BeautifulSoup(response.content, 'html.parser')\n",
    "        # Extract title using 'h1' tag\n",
    "        title = soup.find('h1').text.strip()\n",
    "\n",
    "        # Extract text using 'div' tag with 'td-post-content' class, then select all <p> tags within it\n",
    "        div_element = soup.find('div', class_='td-post-content tagdiv-type')\n",
    "        if div_element:\n",
    "            text_elements = div_element.find_all('p')\n",
    "            text = \"\\n\\n\".join(element.text.strip() for element in text_elements)\n",
    "            return title, text\n",
    "    return None, None\n",
    "\n",
    "# Load URLs from Input.xlsx\n",
    "input_file = r'C:\\PROJECT\\interview task\\Blackoffer\\Input.xlsx'\n",
    "output_file = r'C:\\PROJECT\\interview task\\Blackoffer\\ArticleOutput2.xlsx'\n",
    "\n",
    "# Read the URLs from the 'URL' column of Input.xlsx\n",
    "df = pd.read_excel(input_file)\n",
    "\n",
    "# Extract article title and text for each URL\n",
    "df['Title'], df['Text'] = zip(*df['URL'].apply(extract_article))\n",
    "\n",
    "# Save the results to ArticleOutput.xlsx\n",
    "df.to_excel(output_file, index=False, engine='openpyxl')\n"
   ]
  },
  {
   "cell_type": "code",
   "execution_count": null,
   "id": "9d7bbed6",
   "metadata": {},
   "outputs": [],
   "source": []
  }
 ],
 "metadata": {
  "kernelspec": {
   "display_name": "Python 3 (ipykernel)",
   "language": "python",
   "name": "python3"
  },
  "language_info": {
   "codemirror_mode": {
    "name": "ipython",
    "version": 3
   },
   "file_extension": ".py",
   "mimetype": "text/x-python",
   "name": "python",
   "nbconvert_exporter": "python",
   "pygments_lexer": "ipython3",
   "version": "3.9.13"
  }
 },
 "nbformat": 4,
 "nbformat_minor": 5
}
